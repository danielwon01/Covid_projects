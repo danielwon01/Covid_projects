{
 "cells": [
  {
   "cell_type": "code",
   "execution_count": 1,
   "id": "95e590a3",
   "metadata": {},
   "outputs": [],
   "source": [
    "import pandas as pd\n",
    "import numpy as np\n",
    "import matplotlib.pyplot as plt\n",
    "import seaborn as sns\n",
    "%matplotlib inline\n",
    "\n",
    "import warnings\n",
    "warnings.filterwarnings(action='ignore')\n",
    "\n",
    "import matplotlib\n",
    "matplotlib.rc('font', family='AppleGothic')\n",
    "matplotlib.rc('axes', unicode_minus=False)\n",
    "\n",
    "from IPython.display import set_matplotlib_formats\n",
    "set_matplotlib_formats('retina')\n",
    "\n",
    "# 그래프 틀 변경\n",
    "plt.rcParams['axes.unicode_minus'] = False\n",
    "sns.set(font_scale = 1)  \n",
    "plt.style.use(['fivethirtyeight'])\n",
    "pd.set_option('display.max_columns', None)"
   ]
  },
  {
   "cell_type": "code",
   "execution_count": 2,
   "id": "9ab52078",
   "metadata": {},
   "outputs": [],
   "source": [
    "# 한글폰트 사용\n",
    "import os\n",
    "\n",
    "if os.name == 'posix':\n",
    "\n",
    "    plt.rc(\"font\", family=\"AppleGothic\")\n",
    "else :\n",
    "\n",
    "    plt.rc(\"font\", family=\"Malgun Gothic\")"
   ]
  },
  {
   "cell_type": "code",
   "execution_count": 3,
   "id": "96600385",
   "metadata": {},
   "outputs": [
    {
     "data": {
      "text/html": [
       "<div>\n",
       "<style scoped>\n",
       "    .dataframe tbody tr th:only-of-type {\n",
       "        vertical-align: middle;\n",
       "    }\n",
       "\n",
       "    .dataframe tbody tr th {\n",
       "        vertical-align: top;\n",
       "    }\n",
       "\n",
       "    .dataframe thead th {\n",
       "        text-align: right;\n",
       "    }\n",
       "</style>\n",
       "<table border=\"1\" class=\"dataframe\">\n",
       "  <thead>\n",
       "    <tr style=\"text-align: right;\">\n",
       "      <th></th>\n",
       "      <th>연번</th>\n",
       "      <th>환자</th>\n",
       "      <th>확진일</th>\n",
       "      <th>거주지</th>\n",
       "      <th>여행력</th>\n",
       "      <th>접촉력</th>\n",
       "      <th>퇴원현황</th>\n",
       "      <th>년</th>\n",
       "      <th>월</th>\n",
       "      <th>일</th>\n",
       "      <th>주</th>\n",
       "    </tr>\n",
       "  </thead>\n",
       "  <tbody>\n",
       "    <tr>\n",
       "      <th>193386</th>\n",
       "      <td>203</td>\n",
       "      <td>7842</td>\n",
       "      <td>2020-03-11</td>\n",
       "      <td>강서구</td>\n",
       "      <td>-</td>\n",
       "      <td>Ace 손해보험</td>\n",
       "      <td>퇴원</td>\n",
       "      <td>2020</td>\n",
       "      <td>3</td>\n",
       "      <td>11</td>\n",
       "      <td>11</td>\n",
       "    </tr>\n",
       "    <tr>\n",
       "      <th>193387</th>\n",
       "      <td>202</td>\n",
       "      <td>7567</td>\n",
       "      <td>2020-03-10</td>\n",
       "      <td>노원구</td>\n",
       "      <td>-</td>\n",
       "      <td>Ace 손해보험</td>\n",
       "      <td>퇴원</td>\n",
       "      <td>2020</td>\n",
       "      <td>3</td>\n",
       "      <td>10</td>\n",
       "      <td>11</td>\n",
       "    </tr>\n",
       "    <tr>\n",
       "      <th>193388</th>\n",
       "      <td>201</td>\n",
       "      <td>7711</td>\n",
       "      <td>2020-03-10</td>\n",
       "      <td>노원구</td>\n",
       "      <td>-</td>\n",
       "      <td>Ace 손해보험</td>\n",
       "      <td>퇴원</td>\n",
       "      <td>2020</td>\n",
       "      <td>3</td>\n",
       "      <td>10</td>\n",
       "      <td>11</td>\n",
       "    </tr>\n",
       "  </tbody>\n",
       "</table>\n",
       "</div>"
      ],
      "text/plain": [
       "         연번    환자         확진일  거주지 여행력       접촉력 퇴원현황     년  월   일   주\n",
       "193386  203  7842  2020-03-11  강서구   -  Ace 손해보험   퇴원  2020  3  11  11\n",
       "193387  202  7567  2020-03-10  노원구   -  Ace 손해보험   퇴원  2020  3  10  11\n",
       "193388  201  7711  2020-03-10  노원구   -  Ace 손해보험   퇴원  2020  3  10  11"
      ]
     },
     "execution_count": 3,
     "metadata": {},
     "output_type": "execute_result"
    }
   ],
   "source": [
    "df = pd.read_csv(\"Data/covid_data_.csv\", index_col = 0)\n",
    "df.tail(3)"
   ]
  },
  {
   "cell_type": "code",
   "execution_count": 4,
   "id": "5390bed4",
   "metadata": {},
   "outputs": [
    {
     "name": "stdout",
     "output_type": "stream",
     "text": [
      "<class 'pandas.core.frame.DataFrame'>\n",
      "Int64Index: 193389 entries, 0 to 193388\n",
      "Data columns (total 11 columns):\n",
      " #   Column  Non-Null Count   Dtype \n",
      "---  ------  --------------   ----- \n",
      " 0   연번      193389 non-null  int64 \n",
      " 1   환자      193389 non-null  int64 \n",
      " 2   확진일     193389 non-null  object\n",
      " 3   거주지     193389 non-null  object\n",
      " 4   여행력     193389 non-null  object\n",
      " 5   접촉력     193389 non-null  object\n",
      " 6   퇴원현황    143961 non-null  object\n",
      " 7   년       193389 non-null  int64 \n",
      " 8   월       193389 non-null  int64 \n",
      " 9   일       193389 non-null  int64 \n",
      " 10  주       193389 non-null  int64 \n",
      "dtypes: int64(6), object(5)\n",
      "memory usage: 17.7+ MB\n"
     ]
    }
   ],
   "source": [
    "df.info()"
   ]
  },
  {
   "cell_type": "code",
   "execution_count": 5,
   "id": "e4c6b148",
   "metadata": {},
   "outputs": [
    {
     "data": {
      "text/html": [
       "<div>\n",
       "<style scoped>\n",
       "    .dataframe tbody tr th:only-of-type {\n",
       "        vertical-align: middle;\n",
       "    }\n",
       "\n",
       "    .dataframe tbody tr th {\n",
       "        vertical-align: top;\n",
       "    }\n",
       "\n",
       "    .dataframe thead th {\n",
       "        text-align: right;\n",
       "    }\n",
       "</style>\n",
       "<table border=\"1\" class=\"dataframe\">\n",
       "  <thead>\n",
       "    <tr style=\"text-align: right;\">\n",
       "      <th></th>\n",
       "      <th>Total</th>\n",
       "      <th>Percent</th>\n",
       "    </tr>\n",
       "  </thead>\n",
       "  <tbody>\n",
       "    <tr>\n",
       "      <th>퇴원현황</th>\n",
       "      <td>49428</td>\n",
       "      <td>0.255588</td>\n",
       "    </tr>\n",
       "    <tr>\n",
       "      <th>연번</th>\n",
       "      <td>0</td>\n",
       "      <td>0.000000</td>\n",
       "    </tr>\n",
       "    <tr>\n",
       "      <th>환자</th>\n",
       "      <td>0</td>\n",
       "      <td>0.000000</td>\n",
       "    </tr>\n",
       "    <tr>\n",
       "      <th>확진일</th>\n",
       "      <td>0</td>\n",
       "      <td>0.000000</td>\n",
       "    </tr>\n",
       "    <tr>\n",
       "      <th>거주지</th>\n",
       "      <td>0</td>\n",
       "      <td>0.000000</td>\n",
       "    </tr>\n",
       "    <tr>\n",
       "      <th>여행력</th>\n",
       "      <td>0</td>\n",
       "      <td>0.000000</td>\n",
       "    </tr>\n",
       "    <tr>\n",
       "      <th>접촉력</th>\n",
       "      <td>0</td>\n",
       "      <td>0.000000</td>\n",
       "    </tr>\n",
       "    <tr>\n",
       "      <th>년</th>\n",
       "      <td>0</td>\n",
       "      <td>0.000000</td>\n",
       "    </tr>\n",
       "    <tr>\n",
       "      <th>월</th>\n",
       "      <td>0</td>\n",
       "      <td>0.000000</td>\n",
       "    </tr>\n",
       "    <tr>\n",
       "      <th>일</th>\n",
       "      <td>0</td>\n",
       "      <td>0.000000</td>\n",
       "    </tr>\n",
       "    <tr>\n",
       "      <th>주</th>\n",
       "      <td>0</td>\n",
       "      <td>0.000000</td>\n",
       "    </tr>\n",
       "  </tbody>\n",
       "</table>\n",
       "</div>"
      ],
      "text/plain": [
       "      Total   Percent\n",
       "퇴원현황  49428  0.255588\n",
       "연번        0  0.000000\n",
       "환자        0  0.000000\n",
       "확진일       0  0.000000\n",
       "거주지       0  0.000000\n",
       "여행력       0  0.000000\n",
       "접촉력       0  0.000000\n",
       "년         0  0.000000\n",
       "월         0  0.000000\n",
       "일         0  0.000000\n",
       "주         0  0.000000"
      ]
     },
     "execution_count": 5,
     "metadata": {},
     "output_type": "execute_result"
    }
   ],
   "source": [
    "# null 값 보기 \n",
    "tot = df.isnull().sum().sort_values(ascending=False)\n",
    "pct = (df.isnull().sum()/df.isnull().count()).sort_values(ascending=False)\n",
    "missing_data = pd.concat([tot, pct], axis=1, keys=['Total', 'Percent'])\n",
    "missing_data\n",
    "\n",
    "# 퇴원현황 컬럼안에는 아직 퇴원, 사망으로 기록되지 않은 환자들이 존재함으로 결측값 있음 "
   ]
  },
  {
   "cell_type": "code",
   "execution_count": 6,
   "id": "1340d9a5",
   "metadata": {},
   "outputs": [],
   "source": [
    "#  확진일 datatime 형태로 변경 \n",
    "df[\"확진일\"] = pd.to_datetime(df[\"확진일\"])"
   ]
  },
  {
   "cell_type": "code",
   "execution_count": 7,
   "id": "0d9baac7",
   "metadata": {},
   "outputs": [],
   "source": [
    "x= df[\"확진일\"].value_counts().sort_index()"
   ]
  },
  {
   "cell_type": "code",
   "execution_count": 8,
   "id": "73d23503",
   "metadata": {},
   "outputs": [
    {
     "data": {
      "image/png": "[encoded data removed]",
      "text/plain": [
       "<Figure size 1440x720 with 1 Axes>"
      ]
     },
     "metadata": {
      "image/png": {
       "height": 633,
       "width": 1315
      }
     },
     "output_type": "display_data"
    }
   ],
   "source": [
    "fig , ax = plt.subplots(figsize =  (20,10))\n",
    "\n",
    "sns.lineplot( x.index, x.values , ax = ax,color = \"r\")\n",
    "ax.set_title(\"기간별 확진자 증가 추이\")\n",
    "ax.set_ylabel(\"확진자수\")\n",
    "plt.show()\n",
    "# st.pyplot(fig)"
   ]
  },
  {
   "cell_type": "markdown",
   "id": "0fe65cdd",
   "metadata": {},
   "source": [
    "> 20.3.10 ~ 21-12-15 까지의 코로나 확진자수를 나타낸 라인 그래프입니다.   \n",
    "20년도에는 집단감염원인이 그래프의 변동성을 키웠고 21년도에 들어서면서 집단감염이 아닌 지역감염으로 번짐에 따라 확진자수가 가파르게 증가하는 것을 볼 수 있습니다."
   ]
  },
  {
   "cell_type": "code",
   "execution_count": 9,
   "id": "02145e2f",
   "metadata": {},
   "outputs": [],
   "source": [
    "df.loc[df[\"확진일\"].isin(pd.date_range(\"2020-03-10\",\"2020-03-21\")), \"거리두기\" ] = 0\n",
    "df.loc[df[\"확진일\"].isin(pd.date_range(\"2020-03-22\",\"2020-04-19\")), \"거리두기\" ] = 2\n",
    "df.loc[df[\"확진일\"].isin(pd.date_range(\"2020-04-20\",\"2020-05-05\")), \"거리두기\" ] = 1 \n",
    "df.loc[df[\"확진일\"].isin(pd.date_range(\"2020-05-06\",\"2020-08-15\")), \"거리두기\" ] = 0\n",
    "df.loc[df[\"확진일\"].isin(pd.date_range(\"2020-08-16\",\"2020-08-20\")), \"거리두기\" ] = 2 \n",
    "df.loc[df[\"확진일\"].isin(pd.date_range(\"2020-08-21\",\"2020-09-12\")), \"거리두기\" ] = 2.5 \n",
    "df.loc[df[\"확진일\"].isin(pd.date_range(\"2020-09-13\",\"2020-10-10\")), \"거리두기\" ] = 2 \n",
    "df.loc[df[\"확진일\"].isin(pd.date_range(\"2020-10-11\",\"2020-11-16\")), \"거리두기\" ] = 1 \n",
    "df.loc[df[\"확진일\"].isin(pd.date_range(\"2020-11-17\",\"2020-11-23\")), \"거리두기\" ] = 1.5\n",
    "df.loc[df[\"확진일\"].isin(pd.date_range(\"2020-11-24\",\"2020-12-07\")), \"거리두기\" ] = 2 \n",
    "df.loc[df[\"확진일\"].isin(pd.date_range(\"2020-12-08\",\"2021-02-14\")), \"거리두기\" ] = 2.5 \n",
    "df.loc[df[\"확진일\"].isin(pd.date_range(\"2021-02-15\",\"2021-10-31\")), \"거리두기\" ] = 2 \n",
    "df.loc[df[\"확진일\"].isin(pd.date_range(\"2021-11-01\",\"2021-12-15\")), \"거리두기\" ] = 0"
   ]
  },
  {
   "cell_type": "code",
   "execution_count": 10,
   "id": "470d614b",
   "metadata": {},
   "outputs": [],
   "source": [
    "df13 = df.loc[df[\"확진일\"].isin(pd.date_range(\"2020-03-10\",\"2020-03-21\"))]\n",
    "df1 = df.loc[df[\"확진일\"].isin(pd.date_range(\"2020-03-22\",\"2020-04-19\"))]\n",
    "df2 = df.loc[df[\"확진일\"].isin(pd.date_range(\"2020-04-20\",\"2020-05-05\"))]\n",
    "df3 = df.loc[df[\"확진일\"].isin(pd.date_range(\"2020-05-06\",\"2020-08-15\"))]\n",
    "df4 = df.loc[df[\"확진일\"].isin(pd.date_range(\"2020-08-16\",\"2020-08-20\"))]\n",
    "df5 = df.loc[df[\"확진일\"].isin(pd.date_range(\"2020-08-21\",\"2020-09-12\"))]\n",
    "df6 = df.loc[df[\"확진일\"].isin(pd.date_range(\"2020-09-13\",\"2020-10-10\"))]\n",
    "df7 = df.loc[df[\"확진일\"].isin(pd.date_range(\"2020-10-11\",\"2020-11-16\"))]\n",
    "df8 = df.loc[df[\"확진일\"].isin(pd.date_range(\"2020-11-17\",\"2020-11-23\"))]\n",
    "df9 = df.loc[df[\"확진일\"].isin(pd.date_range(\"2020-11-24\",\"2020-12-07\"))]\n",
    "df10 = df.loc[df[\"확진일\"].isin(pd.date_range(\"2020-12-08\",\"2021-02-14\"))]\n",
    "df11 = df.loc[df[\"확진일\"].isin(pd.date_range(\"2021-02-15\",\"2021-10-31\"))]\n",
    "df12 = df.loc[df[\"확진일\"].isin(pd.date_range(\"2021-11-01\",\"2021-12-15\"))]"
   ]
  },
  {
   "cell_type": "code",
   "execution_count": 11,
   "id": "ea69c2ba",
   "metadata": {},
   "outputs": [
    {
     "data": {
      "text/html": [
       "<div>\n",
       "<style scoped>\n",
       "    .dataframe tbody tr th:only-of-type {\n",
       "        vertical-align: middle;\n",
       "    }\n",
       "\n",
       "    .dataframe tbody tr th {\n",
       "        vertical-align: top;\n",
       "    }\n",
       "\n",
       "    .dataframe thead th {\n",
       "        text-align: right;\n",
       "    }\n",
       "</style>\n",
       "<table border=\"1\" class=\"dataframe\">\n",
       "  <thead>\n",
       "    <tr style=\"text-align: right;\">\n",
       "      <th></th>\n",
       "      <th>연번</th>\n",
       "      <th>환자</th>\n",
       "      <th>확진일</th>\n",
       "      <th>거주지</th>\n",
       "      <th>여행력</th>\n",
       "      <th>접촉력</th>\n",
       "      <th>퇴원현황</th>\n",
       "      <th>년</th>\n",
       "      <th>월</th>\n",
       "      <th>일</th>\n",
       "      <th>주</th>\n",
       "      <th>거리두기</th>\n",
       "    </tr>\n",
       "  </thead>\n",
       "  <tbody>\n",
       "    <tr>\n",
       "      <th>193265</th>\n",
       "      <td>324</td>\n",
       "      <td>8816</td>\n",
       "      <td>2020-03-21</td>\n",
       "      <td>서초구</td>\n",
       "      <td>-</td>\n",
       "      <td>감염경로 조사중</td>\n",
       "      <td>퇴원</td>\n",
       "      <td>2020</td>\n",
       "      <td>3</td>\n",
       "      <td>21</td>\n",
       "      <td>12</td>\n",
       "      <td>0.0</td>\n",
       "    </tr>\n",
       "    <tr>\n",
       "      <th>193266</th>\n",
       "      <td>323</td>\n",
       "      <td>8826</td>\n",
       "      <td>2020-03-21</td>\n",
       "      <td>서대문구</td>\n",
       "      <td>-</td>\n",
       "      <td>감염경로 조사중</td>\n",
       "      <td>퇴원</td>\n",
       "      <td>2020</td>\n",
       "      <td>3</td>\n",
       "      <td>21</td>\n",
       "      <td>12</td>\n",
       "      <td>0.0</td>\n",
       "    </tr>\n",
       "    <tr>\n",
       "      <th>193267</th>\n",
       "      <td>322</td>\n",
       "      <td>8881</td>\n",
       "      <td>2020-03-21</td>\n",
       "      <td>서대문구</td>\n",
       "      <td>유럽</td>\n",
       "      <td>해외유입</td>\n",
       "      <td>퇴원</td>\n",
       "      <td>2020</td>\n",
       "      <td>3</td>\n",
       "      <td>21</td>\n",
       "      <td>12</td>\n",
       "      <td>0.0</td>\n",
       "    </tr>\n",
       "    <tr>\n",
       "      <th>193268</th>\n",
       "      <td>321</td>\n",
       "      <td>8836</td>\n",
       "      <td>2020-03-21</td>\n",
       "      <td>영등포구</td>\n",
       "      <td>유럽</td>\n",
       "      <td>해외유입</td>\n",
       "      <td>퇴원</td>\n",
       "      <td>2020</td>\n",
       "      <td>3</td>\n",
       "      <td>21</td>\n",
       "      <td>12</td>\n",
       "      <td>0.0</td>\n",
       "    </tr>\n",
       "    <tr>\n",
       "      <th>193269</th>\n",
       "      <td>320</td>\n",
       "      <td>8848</td>\n",
       "      <td>2020-03-21</td>\n",
       "      <td>성동구</td>\n",
       "      <td>-</td>\n",
       "      <td>감염경로 조사중</td>\n",
       "      <td>퇴원</td>\n",
       "      <td>2020</td>\n",
       "      <td>3</td>\n",
       "      <td>21</td>\n",
       "      <td>12</td>\n",
       "      <td>0.0</td>\n",
       "    </tr>\n",
       "    <tr>\n",
       "      <th>...</th>\n",
       "      <td>...</td>\n",
       "      <td>...</td>\n",
       "      <td>...</td>\n",
       "      <td>...</td>\n",
       "      <td>...</td>\n",
       "      <td>...</td>\n",
       "      <td>...</td>\n",
       "      <td>...</td>\n",
       "      <td>...</td>\n",
       "      <td>...</td>\n",
       "      <td>...</td>\n",
       "      <td>...</td>\n",
       "    </tr>\n",
       "    <tr>\n",
       "      <th>73346</th>\n",
       "      <td>120243</td>\n",
       "      <td>366552</td>\n",
       "      <td>2021-11-01</td>\n",
       "      <td>마포구</td>\n",
       "      <td>-</td>\n",
       "      <td>기타 확진자 접촉</td>\n",
       "      <td>퇴원</td>\n",
       "      <td>2021</td>\n",
       "      <td>11</td>\n",
       "      <td>1</td>\n",
       "      <td>44</td>\n",
       "      <td>0.0</td>\n",
       "    </tr>\n",
       "    <tr>\n",
       "      <th>73347</th>\n",
       "      <td>120242</td>\n",
       "      <td>366605</td>\n",
       "      <td>2021-11-01</td>\n",
       "      <td>중랑구</td>\n",
       "      <td>-</td>\n",
       "      <td>기타 확진자 접촉</td>\n",
       "      <td>퇴원</td>\n",
       "      <td>2021</td>\n",
       "      <td>11</td>\n",
       "      <td>1</td>\n",
       "      <td>44</td>\n",
       "      <td>0.0</td>\n",
       "    </tr>\n",
       "    <tr>\n",
       "      <th>73348</th>\n",
       "      <td>120241</td>\n",
       "      <td>366608</td>\n",
       "      <td>2021-11-01</td>\n",
       "      <td>도봉구</td>\n",
       "      <td>-</td>\n",
       "      <td>기타 확진자 접촉</td>\n",
       "      <td>퇴원</td>\n",
       "      <td>2021</td>\n",
       "      <td>11</td>\n",
       "      <td>1</td>\n",
       "      <td>44</td>\n",
       "      <td>0.0</td>\n",
       "    </tr>\n",
       "    <tr>\n",
       "      <th>73349</th>\n",
       "      <td>120240</td>\n",
       "      <td>366602</td>\n",
       "      <td>2021-11-01</td>\n",
       "      <td>도봉구</td>\n",
       "      <td>-</td>\n",
       "      <td>기타 확진자 접촉</td>\n",
       "      <td>퇴원</td>\n",
       "      <td>2021</td>\n",
       "      <td>11</td>\n",
       "      <td>1</td>\n",
       "      <td>44</td>\n",
       "      <td>0.0</td>\n",
       "    </tr>\n",
       "    <tr>\n",
       "      <th>73350</th>\n",
       "      <td>120239</td>\n",
       "      <td>366467</td>\n",
       "      <td>2021-11-01</td>\n",
       "      <td>기타</td>\n",
       "      <td>-</td>\n",
       "      <td>동대문구 소재 복지시설 관련</td>\n",
       "      <td>퇴원</td>\n",
       "      <td>2021</td>\n",
       "      <td>11</td>\n",
       "      <td>1</td>\n",
       "      <td>44</td>\n",
       "      <td>0.0</td>\n",
       "    </tr>\n",
       "  </tbody>\n",
       "</table>\n",
       "<p>193389 rows × 12 columns</p>\n",
       "</div>"
      ],
      "text/plain": [
       "            연번      환자        확진일   거주지 여행력              접촉력 퇴원현황     년   월  \\\n",
       "193265     324    8816 2020-03-21   서초구   -         감염경로 조사중   퇴원  2020   3   \n",
       "193266     323    8826 2020-03-21  서대문구   -         감염경로 조사중   퇴원  2020   3   \n",
       "193267     322    8881 2020-03-21  서대문구  유럽             해외유입   퇴원  2020   3   \n",
       "193268     321    8836 2020-03-21  영등포구  유럽             해외유입   퇴원  2020   3   \n",
       "193269     320    8848 2020-03-21   성동구   -         감염경로 조사중   퇴원  2020   3   \n",
       "...        ...     ...        ...   ...  ..              ...  ...   ...  ..   \n",
       "73346   120243  366552 2021-11-01   마포구   -        기타 확진자 접촉   퇴원  2021  11   \n",
       "73347   120242  366605 2021-11-01   중랑구   -        기타 확진자 접촉   퇴원  2021  11   \n",
       "73348   120241  366608 2021-11-01   도봉구   -        기타 확진자 접촉   퇴원  2021  11   \n",
       "73349   120240  366602 2021-11-01   도봉구   -        기타 확진자 접촉   퇴원  2021  11   \n",
       "73350   120239  366467 2021-11-01    기타   -  동대문구 소재 복지시설 관련   퇴원  2021  11   \n",
       "\n",
       "         일   주  거리두기  \n",
       "193265  21  12   0.0  \n",
       "193266  21  12   0.0  \n",
       "193267  21  12   0.0  \n",
       "193268  21  12   0.0  \n",
       "193269  21  12   0.0  \n",
       "...     ..  ..   ...  \n",
       "73346    1  44   0.0  \n",
       "73347    1  44   0.0  \n",
       "73348    1  44   0.0  \n",
       "73349    1  44   0.0  \n",
       "73350    1  44   0.0  \n",
       "\n",
       "[193389 rows x 12 columns]"
      ]
     },
     "execution_count": 11,
     "metadata": {},
     "output_type": "execute_result"
    }
   ],
   "source": [
    "df_거리두기 = pd.concat([df13, df1,df2,df3,df4,df5,df6,df7,df8,df9,df10,df11,df12])\n",
    "df_거리두기"
   ]
  },
  {
   "cell_type": "code",
   "execution_count": 12,
   "id": "5ae6f32c",
   "metadata": {},
   "outputs": [
    {
     "data": {
      "text/html": [
       "<div>\n",
       "<style scoped>\n",
       "    .dataframe tbody tr th:only-of-type {\n",
       "        vertical-align: middle;\n",
       "    }\n",
       "\n",
       "    .dataframe tbody tr th {\n",
       "        vertical-align: top;\n",
       "    }\n",
       "\n",
       "    .dataframe thead th {\n",
       "        text-align: right;\n",
       "    }\n",
       "</style>\n",
       "<table border=\"1\" class=\"dataframe\">\n",
       "  <thead>\n",
       "    <tr style=\"text-align: right;\">\n",
       "      <th></th>\n",
       "      <th>연번</th>\n",
       "      <th>환자</th>\n",
       "      <th>거주지</th>\n",
       "      <th>여행력</th>\n",
       "      <th>접촉력</th>\n",
       "      <th>퇴원현황</th>\n",
       "      <th>년</th>\n",
       "      <th>월</th>\n",
       "      <th>일</th>\n",
       "      <th>주</th>\n",
       "      <th>거리두기</th>\n",
       "    </tr>\n",
       "    <tr>\n",
       "      <th>확진일</th>\n",
       "      <th></th>\n",
       "      <th></th>\n",
       "      <th></th>\n",
       "      <th></th>\n",
       "      <th></th>\n",
       "      <th></th>\n",
       "      <th></th>\n",
       "      <th></th>\n",
       "      <th></th>\n",
       "      <th></th>\n",
       "      <th></th>\n",
       "    </tr>\n",
       "  </thead>\n",
       "  <tbody>\n",
       "    <tr>\n",
       "      <th>2021-12-15</th>\n",
       "      <td>193389</td>\n",
       "      <td>540828</td>\n",
       "      <td>기타</td>\n",
       "      <td>-</td>\n",
       "      <td>감염경로 조사중</td>\n",
       "      <td>NaN</td>\n",
       "      <td>2021</td>\n",
       "      <td>12</td>\n",
       "      <td>15</td>\n",
       "      <td>50</td>\n",
       "      <td>0.0</td>\n",
       "    </tr>\n",
       "    <tr>\n",
       "      <th>2021-12-15</th>\n",
       "      <td>193388</td>\n",
       "      <td>543915</td>\n",
       "      <td>기타</td>\n",
       "      <td>-</td>\n",
       "      <td>감염경로 조사중</td>\n",
       "      <td>NaN</td>\n",
       "      <td>2021</td>\n",
       "      <td>12</td>\n",
       "      <td>15</td>\n",
       "      <td>50</td>\n",
       "      <td>0.0</td>\n",
       "    </tr>\n",
       "    <tr>\n",
       "      <th>2021-12-15</th>\n",
       "      <td>193387</td>\n",
       "      <td>543911</td>\n",
       "      <td>기타</td>\n",
       "      <td>-</td>\n",
       "      <td>감염경로 조사중</td>\n",
       "      <td>NaN</td>\n",
       "      <td>2021</td>\n",
       "      <td>12</td>\n",
       "      <td>15</td>\n",
       "      <td>50</td>\n",
       "      <td>0.0</td>\n",
       "    </tr>\n",
       "    <tr>\n",
       "      <th>2021-12-15</th>\n",
       "      <td>193386</td>\n",
       "      <td>543909</td>\n",
       "      <td>기타</td>\n",
       "      <td>-</td>\n",
       "      <td>감염경로 조사중</td>\n",
       "      <td>NaN</td>\n",
       "      <td>2021</td>\n",
       "      <td>12</td>\n",
       "      <td>15</td>\n",
       "      <td>50</td>\n",
       "      <td>0.0</td>\n",
       "    </tr>\n",
       "    <tr>\n",
       "      <th>2021-12-15</th>\n",
       "      <td>193385</td>\n",
       "      <td>543904</td>\n",
       "      <td>기타</td>\n",
       "      <td>-</td>\n",
       "      <td>감염경로 조사중</td>\n",
       "      <td>NaN</td>\n",
       "      <td>2021</td>\n",
       "      <td>12</td>\n",
       "      <td>15</td>\n",
       "      <td>50</td>\n",
       "      <td>0.0</td>\n",
       "    </tr>\n",
       "    <tr>\n",
       "      <th>...</th>\n",
       "      <td>...</td>\n",
       "      <td>...</td>\n",
       "      <td>...</td>\n",
       "      <td>...</td>\n",
       "      <td>...</td>\n",
       "      <td>...</td>\n",
       "      <td>...</td>\n",
       "      <td>...</td>\n",
       "      <td>...</td>\n",
       "      <td>...</td>\n",
       "      <td>...</td>\n",
       "    </tr>\n",
       "    <tr>\n",
       "      <th>2020-03-11</th>\n",
       "      <td>205</td>\n",
       "      <td>7822</td>\n",
       "      <td>강서구</td>\n",
       "      <td>-</td>\n",
       "      <td>Ace 손해보험</td>\n",
       "      <td>퇴원</td>\n",
       "      <td>2020</td>\n",
       "      <td>3</td>\n",
       "      <td>11</td>\n",
       "      <td>11</td>\n",
       "      <td>0.0</td>\n",
       "    </tr>\n",
       "    <tr>\n",
       "      <th>2020-03-11</th>\n",
       "      <td>204</td>\n",
       "      <td>7851</td>\n",
       "      <td>강서구</td>\n",
       "      <td>-</td>\n",
       "      <td>Ace 손해보험</td>\n",
       "      <td>퇴원</td>\n",
       "      <td>2020</td>\n",
       "      <td>3</td>\n",
       "      <td>11</td>\n",
       "      <td>11</td>\n",
       "      <td>0.0</td>\n",
       "    </tr>\n",
       "    <tr>\n",
       "      <th>2020-03-11</th>\n",
       "      <td>203</td>\n",
       "      <td>7842</td>\n",
       "      <td>강서구</td>\n",
       "      <td>-</td>\n",
       "      <td>Ace 손해보험</td>\n",
       "      <td>퇴원</td>\n",
       "      <td>2020</td>\n",
       "      <td>3</td>\n",
       "      <td>11</td>\n",
       "      <td>11</td>\n",
       "      <td>0.0</td>\n",
       "    </tr>\n",
       "    <tr>\n",
       "      <th>2020-03-10</th>\n",
       "      <td>202</td>\n",
       "      <td>7567</td>\n",
       "      <td>노원구</td>\n",
       "      <td>-</td>\n",
       "      <td>Ace 손해보험</td>\n",
       "      <td>퇴원</td>\n",
       "      <td>2020</td>\n",
       "      <td>3</td>\n",
       "      <td>10</td>\n",
       "      <td>11</td>\n",
       "      <td>0.0</td>\n",
       "    </tr>\n",
       "    <tr>\n",
       "      <th>2020-03-10</th>\n",
       "      <td>201</td>\n",
       "      <td>7711</td>\n",
       "      <td>노원구</td>\n",
       "      <td>-</td>\n",
       "      <td>Ace 손해보험</td>\n",
       "      <td>퇴원</td>\n",
       "      <td>2020</td>\n",
       "      <td>3</td>\n",
       "      <td>10</td>\n",
       "      <td>11</td>\n",
       "      <td>0.0</td>\n",
       "    </tr>\n",
       "  </tbody>\n",
       "</table>\n",
       "<p>193389 rows × 11 columns</p>\n",
       "</div>"
      ],
      "text/plain": [
       "                연번      환자  거주지 여행력       접촉력 퇴원현황     년   월   일   주  거리두기\n",
       "확진일                                                                       \n",
       "2021-12-15  193389  540828   기타   -  감염경로 조사중  NaN  2021  12  15  50   0.0\n",
       "2021-12-15  193388  543915   기타   -  감염경로 조사중  NaN  2021  12  15  50   0.0\n",
       "2021-12-15  193387  543911   기타   -  감염경로 조사중  NaN  2021  12  15  50   0.0\n",
       "2021-12-15  193386  543909   기타   -  감염경로 조사중  NaN  2021  12  15  50   0.0\n",
       "2021-12-15  193385  543904   기타   -  감염경로 조사중  NaN  2021  12  15  50   0.0\n",
       "...            ...     ...  ...  ..       ...  ...   ...  ..  ..  ..   ...\n",
       "2020-03-11     205    7822  강서구   -  Ace 손해보험   퇴원  2020   3  11  11   0.0\n",
       "2020-03-11     204    7851  강서구   -  Ace 손해보험   퇴원  2020   3  11  11   0.0\n",
       "2020-03-11     203    7842  강서구   -  Ace 손해보험   퇴원  2020   3  11  11   0.0\n",
       "2020-03-10     202    7567  노원구   -  Ace 손해보험   퇴원  2020   3  10  11   0.0\n",
       "2020-03-10     201    7711  노원구   -  Ace 손해보험   퇴원  2020   3  10  11   0.0\n",
       "\n",
       "[193389 rows x 11 columns]"
      ]
     },
     "execution_count": 12,
     "metadata": {},
     "output_type": "execute_result"
    }
   ],
   "source": [
    "df_거리두기 = df.set_index(\"확진일\")\n",
    "df_거리두기"
   ]
  },
  {
   "cell_type": "code",
   "execution_count": 13,
   "id": "350c4807",
   "metadata": {},
   "outputs": [
    {
     "data": {
      "text/plain": [
       "2020-03-10       2\n",
       "2020-03-11      17\n",
       "2020-03-12      12\n",
       "2020-03-13       9\n",
       "2020-03-14       8\n",
       "              ... \n",
       "2021-12-11    2527\n",
       "2021-12-12    2550\n",
       "2021-12-13    2062\n",
       "2021-12-14    3166\n",
       "2021-12-15    3157\n",
       "Name: 확진일, Length: 634, dtype: int64"
      ]
     },
     "execution_count": 13,
     "metadata": {},
     "output_type": "execute_result"
    }
   ],
   "source": [
    "x= df_거리두기.index.value_counts().sort_index()\n",
    "x"
   ]
  },
  {
   "cell_type": "markdown",
   "id": "67e3a48f",
   "metadata": {},
   "source": [
    "#### 거리 두기 시행 \n",
    "20.3.22 ~ 20.4.7 (강화된 거리두기 )  2단계  \n",
    "20.04.08 ~ 20.4,19 (첫 집합금지 명령) 2단계  \n",
    "20.4.20 ~ 20.5.5 (일부조치 완하) 1단계  \n",
    "20.5.6 ~ 20.8.15  (생활속 거리두기) 0단계  \n",
    "20.8.16 ~ 20.8.20 2단계   \n",
    "20.8.21 ~ 20.9.12 2.5 단계   \n",
    "20.9.13 ~ 20.10.10 2단계  \n",
    "20.10.11 ~ 11.16 1단계  \n",
    "20.11.17 ~ 20.11.23 1.5 단계  \n",
    "20.11.24 ~ 20.12.7 2단계  \n",
    "20.12.8 ~ 21.2.14 2.5단계  \n",
    "21.2.15 ~ 21.10.31 2단계   \n",
    "21.11.1 ~ 21.12.16 0단계   "
   ]
  },
  {
   "cell_type": "code",
   "execution_count": null,
   "id": "63d34967",
   "metadata": {},
   "outputs": [],
   "source": [
    "# 합쳐서 사용\n",
    "fig ,(ax0,ax1 ) = plt.subplots(2,1 ,figsize =  (20,10), sharey =False) # x,y축값을 동일시 \n",
    "\n",
    "sns.lineplot( x.index, x.values , ax = ax0,color = \"r\")\n",
    "sns.lineplot( df_거리두기.index, df_거리두기[\"거리두기\"] , ax = ax1,color = \"r\")\n",
    "\n",
    "ax0.set_title(\"기간별 확진자수 \")\n",
    "ax0.set_ylabel(\"확진자수\")\n",
    "\n",
    "ax1.set_title(\"기간별 거리두기 단계 \")\n",
    "ax1.set_ylabel(\"거리두기 단계 \")\n",
    "\n",
    "fig.tight_layout() # 메소드는 서브 플롯간에 올바른 간격을 자동으로 유지합니다.\n",
    "plt.subplots_adjust(left=0.1, right=0.95, bottom=0.1, top=0.95, wspace=0.7, hspace=0.5) #  #subplot 간 간격 조절\n",
    "plt.show()"
   ]
  },
  {
   "cell_type": "markdown",
   "id": "a2786315",
   "metadata": {},
   "source": [
    ">기간별 확진자수와 거리두기단계 라인 그래프를 함께 나타낸 그래프입니다. 위의 그래프는 거리두기 단계에 따른 코로나 확진자 추이를 살펴보기 위해 제작하였습니다.   \n",
    "거리두기 초반에는 확진자수 증가 추이에 맞추어 거리두기 단계를 상승시킨 것을 볼 수 있습니다. 중반기에는 거리두기 2단계 유지로 어느정도 확진자 수가 유지되어 오는것 처럼 보였지만 하반기에 단계적 일상회복으로 인해 단계가 0 단계로 하향조정 되자 확진자수가 급증하였습니다.  \n",
    "거리두기 단계가 낮아지면 확진자수가 증가하는 양상이 보이기 때문에 확진자와 거리두기 단계간 음의 상관관계를 갖고 있다고 할 수 있습니다."
   ]
  },
  {
   "cell_type": "code",
   "execution_count": null,
   "id": "e19dd9b4",
   "metadata": {},
   "outputs": [],
   "source": [
    "df_거리두기_death_ = df_거리두기[df_거리두기[\"퇴원현황\"] == \"사망\"]"
   ]
  },
  {
   "cell_type": "code",
   "execution_count": null,
   "id": "2eb730bf",
   "metadata": {},
   "outputs": [],
   "source": [
    "# 거리두기에 따른 확진자 사망 \n",
    "x = df_거리두기_death_.groupby(\"거리두기\")[\"퇴원현황\"].value_counts()\n",
    "x = x.unstack()\n",
    "x[\"사망\"].index"
   ]
  },
  {
   "cell_type": "code",
   "execution_count": null,
   "id": "4d345db0",
   "metadata": {},
   "outputs": [],
   "source": [
    "df_거리두기_death = df_거리두기_death_.groupby([\"거리두기\", \"퇴원현황\"])[\"연번\"].count().unstack().fillna(0).astype(int)\n",
    "df_거리두기_death.style.background_gradient(cmap=\"Reds\", vmin =0 ,vmax = 600)"
   ]
  },
  {
   "cell_type": "code",
   "execution_count": null,
   "id": "ac86cf80",
   "metadata": {},
   "outputs": [],
   "source": [
    "fig ,ax  = plt.subplots(figsize = (10,8))\n",
    "sns.barplot(x[\"사망\"].index , x[\"사망\"].values , ax = ax ,color ='r')\n",
    "\n",
    "ax.set_title(\"거리두기 단계별 사망자 수 \")\n",
    "plt.show()"
   ]
  },
  {
   "cell_type": "markdown",
   "id": "ba2b9d5a",
   "metadata": {},
   "source": [
    "> 코로나에 따른 사망자 수는 0단계에서 가장 많았습니다. 상대적으로 0단계 보다 2단계 거리두기 단계 실시 기한 길었음에도 불구하고 단기간에 확진자가 증가하면서 사망자 또한 같이 증가한 것으로 보입니다."
   ]
  },
  {
   "cell_type": "markdown",
   "id": "33a4dd8c",
   "metadata": {},
   "source": [
    "### 접촉력 파악 "
   ]
  },
  {
   "cell_type": "code",
   "execution_count": null,
   "id": "7832220e",
   "metadata": {},
   "outputs": [],
   "source": [
    "t = df[\"접촉력\"].value_counts().sort_values().tail(10)"
   ]
  },
  {
   "cell_type": "code",
   "execution_count": null,
   "id": "9988093e",
   "metadata": {},
   "outputs": [],
   "source": [
    "# 전체 기준\n",
    "fig ,ax  = plt.subplots(figsize = (10,8))\n",
    "sns.set_palette(\"Reds\", 10)\n",
    "sns.barplot(t.index , t.values , ax = ax )\n",
    "plt.xticks(rotation = 45)\n",
    "plt.show()"
   ]
  },
  {
   "cell_type": "markdown",
   "id": "5fb17c19",
   "metadata": {},
   "source": [
    "> 전체 기간 확진자 접촉력에 대해 파악한 막대 그래프입니다.   \n",
    "최근 지역감염이 급격하게 증가하며 '기타확진자 접촉', '감염경로조사중' 등 원인을 파악하기 어려운 경우가 다분한것으로 보입니다."
   ]
  },
  {
   "cell_type": "code",
   "execution_count": null,
   "id": "fe088fe3",
   "metadata": {},
   "outputs": [],
   "source": [
    "top_ = df[df[\"접촉력\"].isin(t.tail(15).index)]\n",
    "top_"
   ]
  },
  {
   "cell_type": "code",
   "execution_count": null,
   "id": "01b38a53",
   "metadata": {},
   "outputs": [],
   "source": [
    "# 2020년 기준 \n",
    "top_group_2020 = top_[top_[\"년\"]==2020].groupby([\"접촉력\", \"월\"])[\"연번\"].count().unstack().fillna(0).astype(int)\n",
    "top_group_2020.style.background_gradient(cmap=\"Blues\")"
   ]
  },
  {
   "cell_type": "markdown",
   "id": "0e582dba",
   "metadata": {},
   "source": [
    "> 20년 확진자 접촉력을 나타낸 맵 그래프입니다.   \n",
    "코로나 초기에는 해외유입으로 인한 확진자 수가 많고 '사랑제일교회', 동부구치소' 등 집단감염이 코로나 확진의 주요 원인으로 보입니다."
   ]
  },
  {
   "cell_type": "code",
   "execution_count": null,
   "id": "2dca29bc",
   "metadata": {},
   "outputs": [],
   "source": [
    "# 2021년 기준 \n",
    "top_group_2021 = top_[top_[\"년\"]==2021].groupby([\"접촉력\", \"월\"])[\"연번\"].count().unstack().fillna(0).astype(int)\n",
    "top_group_2021.style.background_gradient(cmap=\"Reds\")"
   ]
  },
  {
   "cell_type": "markdown",
   "id": "bcb67e59",
   "metadata": {},
   "source": [
    "> 21년에는 20년과 상이하게 지역감염으로 코로나가 확산되며 접촉력을 알 수 없는 확진자가 많은것을 볼 수 있습니다"
   ]
  },
  {
   "cell_type": "markdown",
   "id": "c8794890",
   "metadata": {},
   "source": [
    "### 퇴원자 사망자 비교"
   ]
  },
  {
   "cell_type": "code",
   "execution_count": null,
   "id": "6fd7512f",
   "metadata": {},
   "outputs": [],
   "source": [
    "df[\"퇴원\"] = df[\"퇴원현황\"].str.contains(\"퇴원\", na=False)\n",
    "df[\"사망\"] = df[\"퇴원현황\"].str.contains(\"사망\", na=False)"
   ]
  },
  {
   "cell_type": "code",
   "execution_count": null,
   "id": "5f6a8c61",
   "metadata": {},
   "outputs": [],
   "source": [
    "np.round(df[\"퇴원\"].value_counts(normalize=True),2)"
   ]
  },
  {
   "cell_type": "code",
   "execution_count": null,
   "id": "d37e88a4",
   "metadata": {},
   "outputs": [],
   "source": [
    "np.round(df[\"사망\"].value_counts(normalize=True),2)"
   ]
  },
  {
   "cell_type": "code",
   "execution_count": null,
   "id": "5f4fc773",
   "metadata": {},
   "outputs": [],
   "source": [
    "퇴원_value = df[\"퇴원현황\"].value_counts()\n",
    "퇴원_value"
   ]
  },
  {
   "cell_type": "code",
   "execution_count": null,
   "id": "dfd70c4c",
   "metadata": {},
   "outputs": [],
   "source": [
    "# 전체 사망자 비율 파이차트 \n",
    "fig , ax  = plt.subplots(figsize = (13,10))\n",
    "wedgeprops={'width': 0.6, 'edgecolor': 'w', 'linewidth': 5}\n",
    "colors = [\"green\",\"red\"]\n",
    "\n",
    "ax.pie(x = 퇴원_value.values, labels = 퇴원_value.index, autopct='%.1f%%'\n",
    "      ,  startangle=260, counterclock=False,  wedgeprops=wedgeprops, textprops ={'size' :20}, colors = colors)\n",
    "\n",
    "# autopct는 부채꼴 안에 표시될 숫자의 형식을 지정합니다. 소수점 한자리까지 표시하도록 설정했습니다.\n",
    "# startangle는 부채꼴이 그려지는 시작 각도를 설정합니다.\n",
    "# counterclock=False로 설정하면 시계 방향 순서로 부채꼴 영역이 표시됩니다\n",
    "\n",
    "plt.show()"
   ]
  },
  {
   "cell_type": "markdown",
   "id": "9a86415a",
   "metadata": {},
   "source": [
    " 확진자중 퇴원과 사망한 확진자의 분포를 나타낸 파이차트 입니다. \n",
    "\n",
    ">파이차트만으로는 확진자 중 사망자가 1%로 적은걸 알 수 있습니다. 하지만 이는 잘못된 결론이라고 판단이 듭니다.코로나의 치명률은 연령대에 다르기 때문입니다. \n",
    "\n",
    ">현재 데이터가 부족해 분석을 진행하지는 못하지만 조사해본 봐로는 20대의 경우 치명률이 0.01%이고 30대 0.04%, 40대 0.06%, 50대 0.26%로 1% 미만이지만 코로나 치명률은 고령층으로 갈수록 크게 뜁니다. \n",
    "**60대는 1.05%, 70대는 5.57%, 80대 이상은 18.69%**에 달했다.\n",
    "\n",
    "**이와 같이 단순 총 사망자 분포를 통해 코로나가 치명적이지 않다고 단정 지을 수는 없다고 생각합니다.**"
   ]
  },
  {
   "cell_type": "code",
   "execution_count": null,
   "id": "0dfa4651",
   "metadata": {},
   "outputs": [],
   "source": [
    "df_death = df[df[\"퇴원현황\"] == \"사망\"]\n",
    "df_alive = df[df[\"퇴원현황\"] == \"퇴원\"]"
   ]
  },
  {
   "cell_type": "code",
   "execution_count": null,
   "id": "8a5390bf",
   "metadata": {},
   "outputs": [],
   "source": [
    "# 2020일별 사망자수 (계절성)\n",
    "df_d_2020 = df_death[df_death[\"년\"]==2020].groupby([\"퇴원현황\", \"월\",\"일\"])[\"연번\"].count().unstack().fillna(0).astype(int)\n",
    "df_d_2020.style.background_gradient(cmap=\"Reds\", vmin =0 ,vmax = 20)"
   ]
  },
  {
   "cell_type": "markdown",
   "id": "3d40b9ea",
   "metadata": {},
   "source": [
    "> 20년도 월,일 기준으로 그래낸 맵 차트입니다.   \n",
    "결국 확진자수가 겨울철에 확산되면서 이에 따라 사망자 수도 증가한 것을 볼 수 있습니다."
   ]
  },
  {
   "cell_type": "code",
   "execution_count": null,
   "id": "8c926706",
   "metadata": {},
   "outputs": [],
   "source": [
    "# 2021일별 사망자수 (계절성, 중환자수가 늘어나서 인가? )\n",
    "df_d_2021 = df_death[df_death[\"년\"]==2021].groupby([\"퇴원현황\", \"월\",\"일\"])[\"연번\"].count().unstack().fillna(0).astype(int)\n",
    "df_d_2021.style.background_gradient(cmap=\"Reds\", vmin =0 ,vmax = 20)"
   ]
  },
  {
   "cell_type": "markdown",
   "id": "af970135",
   "metadata": {},
   "source": [
    "20년와 동일하게 겨울철이 도래하면서 사망자수가 증가하는 것을 볼 수 있습니다."
   ]
  },
  {
   "cell_type": "markdown",
   "id": "5e81c95d",
   "metadata": {},
   "source": [
    "### 여행력 별 확진자 "
   ]
  },
  {
   "cell_type": "code",
   "execution_count": null,
   "id": "501a9065",
   "metadata": {},
   "outputs": [],
   "source": [
    "df[\"해외\"] = df[\"여행력\"]\n",
    "df[\"해외\"] = df[\"해외\"].replace(\"-\",np.nan) # - 를 NaN으로 변경 \n",
    "\n",
    "df_oversea =df[df[\"해외\"].notnull()].copy()\n",
    "df_oversea.drop(df[df[\"해외\"] == \"성석교회 관련 확진자 접촉 추정\"].index ,inplace =True ) \n",
    "df_oversea.drop(df[df[\"해외\"] == \"천리교 혜성교회 생활관 거주자 집단확진\"].index ,inplace =True ) "
   ]
  },
  {
   "cell_type": "code",
   "execution_count": null,
   "id": "fa9ba739",
   "metadata": {},
   "outputs": [],
   "source": [
    "europe = \"체코,헝가리,오스트리아,이탈리아,프랑스,모로코,독일,스페인,영국,폴란드,터키,아일랜드\"\n",
    "europe = europe.replace(\",\", \"|\")\n",
    "south_america = \"브라질,아르헨티아,칠레,볼리비아,멕시코,페루\"\n",
    "south_america = south_america.replace(\",\", \"|\")\n",
    "\n",
    "df_oversea.loc[df_oversea[\"해외\"].str.contains(europe), \"해외\"] = '유럽'\n",
    "df_oversea.loc[df_oversea[\"해외\"].str.contains(south_america), \"해외\"] = '남미'\n",
    "df_oversea.loc[df_oversea[\"해외\"].str.contains('중국|우한'), \"해외\"] = '중국'\n",
    "df_oversea.loc[df_oversea[\"해외\"].str.contains('아랍에미리트'), \"해외\"] = 'UAE'\n",
    "df_oversea.loc[df_oversea[\"해외\"].str.contains('필리핀'), \"해외\"] = '필리핀'\n",
    "df_oversea.loc[df_oversea[\"해외\"].str.contains('미국'), \"해외\"] = '미국'\n",
    "\n",
    "df_oversea.head(3)"
   ]
  },
  {
   "cell_type": "code",
   "execution_count": null,
   "id": "8a4a9aa6",
   "metadata": {},
   "outputs": [],
   "source": [
    "import re \n",
    "def d(s):\n",
    "    contry = re.compile('[^ ㄱ-ㅣ가-힣+]')# 한글과 띄어쓰기를 제외한 모든 글자\n",
    "    result = contry.sub('', s) # 한글과 띄어쓰기를 제외한 모든 부분을 제거\n",
    "    return(result)"
   ]
  },
  {
   "cell_type": "code",
   "execution_count": null,
   "id": "6c35f906",
   "metadata": {},
   "outputs": [],
   "source": [
    "df_oversea[\"해외\"] = df_oversea[\"해외\"].apply(d)"
   ]
  },
  {
   "cell_type": "code",
   "execution_count": null,
   "id": "ce3fe942",
   "metadata": {},
   "outputs": [],
   "source": [
    "set(df_oversea[\"해외\"])"
   ]
  },
  {
   "cell_type": "code",
   "execution_count": null,
   "id": "e8a662ee",
   "metadata": {},
   "outputs": [],
   "source": [
    "oversea_group  = df_oversea.groupby([\"확진일\",\"해외\"])[\"연번\"].count()"
   ]
  },
  {
   "cell_type": "code",
   "execution_count": null,
   "id": "0df7df4f",
   "metadata": {},
   "outputs": [],
   "source": [
    "oversea_group = oversea_group.groupby(level = [1]).cumsum()\n",
    "oversea_group"
   ]
  },
  {
   "cell_type": "code",
   "execution_count": null,
   "id": "e97cfbb1",
   "metadata": {},
   "outputs": [],
   "source": [
    "oversea_group = oversea_group.reset_index()\n",
    "oversea_group = oversea_group.rename(columns={\"연번\": \"누적확진수\"})\n",
    "oversea_group.head(3)"
   ]
  },
  {
   "cell_type": "code",
   "execution_count": null,
   "id": "fe78bac3",
   "metadata": {},
   "outputs": [],
   "source": [
    "oversea_group_2020 = oversea_group[oversea_group[\"확진일\"].isin(pd.date_range(\"2020-03-11\", \"2020-12-31\")) ]\n",
    "oversea_group_2021 = oversea_group[oversea_group[\"확진일\"].isin(pd.date_range(\"2021-01-01\", \"2021-12-15\")) ]"
   ]
  },
  {
   "cell_type": "code",
   "execution_count": null,
   "id": "a84fe044",
   "metadata": {},
   "outputs": [],
   "source": [
    "# 전체 , 2021, 2020\n",
    "oversea_count = oversea_group[\"해외\"].value_counts().sort_values().tail(10)\n",
    "oversea_count_2021 =  oversea_group_2021[\"해외\"].value_counts().sort_values().tail(10)\n",
    "oversea_count_2020 = oversea_group_2020[\"해외\"].value_counts().sort_values().tail(10)"
   ]
  },
  {
   "cell_type": "code",
   "execution_count": null,
   "id": "4399dbb0",
   "metadata": {},
   "outputs": [],
   "source": [
    "fig ,ax  = plt.subplots(figsize = (10, 8))\n",
    "sns.barplot(oversea_count.index , oversea_count.values , ax = ax )\n",
    "ax.set_title(\"해외유입 국가 별 확진자 수\")\n",
    "\n",
    "plt.show()"
   ]
  },
  {
   "cell_type": "markdown",
   "id": "2919b06c",
   "metadata": {},
   "source": [
    "> 나라별 해외유입 확진자 수를 그린 막대차트 입니다.    \n",
    "여행 제재가 풀린 유럽, 미국 입국자에서 확진자수 두드러지는 것을 볼 수 있습니다."
   ]
  },
  {
   "cell_type": "code",
   "execution_count": null,
   "id": "6a7c76f6",
   "metadata": {},
   "outputs": [],
   "source": [
    "fig ,ax  = plt.subplots(figsize = (10, 8))\n",
    "sns.barplot(oversea_count_2020.index , oversea_count_2020.values , ax = ax )\n",
    "ax.set_title(\"2020 해외유입 국가 별 확진자 수\")\n",
    "\n",
    "plt.show()"
   ]
  },
  {
   "cell_type": "markdown",
   "id": "f540b52e",
   "metadata": {},
   "source": [
    "> 유럽 봉쇄로 인해 20년도에는 미국.아시아 입국자 확진사 수가 대두됩니다."
   ]
  },
  {
   "cell_type": "code",
   "execution_count": null,
   "id": "b6c500f9",
   "metadata": {},
   "outputs": [],
   "source": [
    "fig ,ax  = plt.subplots(figsize = (10, 8))\n",
    "sns.barplot(oversea_count_2021.index , oversea_count_2021.values , ax = ax )\n",
    "ax.set_title(\"2021 해외유입 국가 별 확진자 수\")\n",
    "plt.show()"
   ]
  },
  {
   "cell_type": "markdown",
   "id": "6a5594ad",
   "metadata": {},
   "source": [
    "> 21년도에는 유럽 여행봉쇄조치가 해제되면서 유럽입국자중 확진자수가 가장많이 나타나는 것을 볼 수 있습니다"
   ]
  },
  {
   "cell_type": "markdown",
   "id": "232eaff7",
   "metadata": {},
   "source": [
    "## 지역별 확진자 수 파악 "
   ]
  },
  {
   "cell_type": "code",
   "execution_count": null,
   "id": "6e839573",
   "metadata": {},
   "outputs": [],
   "source": [
    "x  = df[\"거주지\"].value_counts().head(20)"
   ]
  },
  {
   "cell_type": "code",
   "execution_count": null,
   "id": "ed3fc42f",
   "metadata": {},
   "outputs": [],
   "source": [
    "fig, ax = plt.subplots(figsize = (10,8))\n",
    "sns.barplot(x.values, x.index  , ax =ax , color = 'r')\n",
    "\n",
    "ax.set_title(\"거주지 별 확진자 수 \")\n",
    "plt.xticks(rotation = 45)\n",
    "plt.show()"
   ]
  },
  {
   "cell_type": "markdown",
   "id": "bb9d7404",
   "metadata": {},
   "source": [
    "> 거주지별 확진자수를 나타낸 막대차트입니다.  \n",
    "서울시 거주지 인구수는 송파구, 강서구, 노원구, 관악구 순으로 많습니다. 하지만 코로나 확진자수는 완전히 거주지인구수에 비례하게 나타나지 않는 모습을 볼 수 있습니다. "
   ]
  },
  {
   "cell_type": "code",
   "execution_count": null,
   "id": "0baed6f5",
   "metadata": {},
   "outputs": [],
   "source": [
    "import folium"
   ]
  },
  {
   "cell_type": "code",
   "execution_count": null,
   "id": "033e7958",
   "metadata": {},
   "outputs": [],
   "source": [
    "df_location = pd.read_csv(\"Data/위도,경도.csv\")\n",
    "df_location.head(3)"
   ]
  },
  {
   "cell_type": "code",
   "execution_count": null,
   "id": "2c292883",
   "metadata": {},
   "outputs": [],
   "source": [
    "df_location_m= df.merge(df_location, on = \"거주지\")\n",
    "df_location_m"
   ]
  },
  {
   "cell_type": "code",
   "execution_count": null,
   "id": "e673bdca",
   "metadata": {},
   "outputs": [],
   "source": [
    "df_location_count = pd.DataFrame(df.groupby([\"거주지\"])[\"연번\"].count())\n",
    "df_location_count.columns = [\"확진자수\"]\n",
    "df_location_count = df_location_count[df_location_count[\"확진자수\"] > 1] \n",
    "df_location_count.head(3)"
   ]
  },
  {
   "cell_type": "code",
   "execution_count": null,
   "id": "fbf7406e",
   "metadata": {},
   "outputs": [],
   "source": [
    "import json \n",
    "\n",
    "geo_path = 'skorea_municipalities_geo_simple.json'\n",
    "geo_str = json.load(open(geo_path, encoding='utf-8'))"
   ]
  },
  {
   "cell_type": "code",
   "execution_count": null,
   "id": "d2f02a6e",
   "metadata": {},
   "outputs": [],
   "source": [
    "map = folium.Map(location = [df_location_m[\"Latitude\"].mean(), df_location_m[\"Longitude\"].mean()],\n",
    "                zoom_start = 11, tiles = 'Stamen Toner')\n",
    "\n",
    "map.choropleth(\n",
    "                geo_data = geo_str ,\n",
    "                  data = df_location_count[\"확진자수\"],\n",
    "                  columns = [[df_location_count.index,df_location_count[\"확진자수\"]]] ,\n",
    "                   fill_color = 'Reds',\n",
    "                  key_on = 'feature.properties.name' ,\n",
    "               )\n",
    "\n",
    "map"
   ]
  },
  {
   "cell_type": "markdown",
   "id": "aa3ace8c",
   "metadata": {},
   "source": [
    "folium 함수를 사용해 시각적으로 거주지 별 확진자 수를 파악하기 쉽게 맵 그래프를 구현했습니다."
   ]
  }
 ],
 "metadata": {
  "kernelspec": {
   "display_name": "Python 3",
   "language": "python",
   "name": "python3"
  },
  "language_info": {
   "codemirror_mode": {
    "name": "ipython",
    "version": 3
   },
   "file_extension": ".py",
   "mimetype": "text/x-python",
   "name": "python",
   "nbconvert_exporter": "python",
   "pygments_lexer": "ipython3",
   "version": "3.8.8"
  }
 },
 "nbformat": 4,
 "nbformat_minor": 5
}
