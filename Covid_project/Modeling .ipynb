{
 "cells": [
  {
   "cell_type": "code",
   "execution_count": 1,
   "id": "7fb8004b",
   "metadata": {},
   "outputs": [],
   "source": [
    "import pandas as pd\n",
    "import numpy as np\n",
    "import matplotlib.pyplot as plt\n",
    "import seaborn as sns\n",
    "%matplotlib inline\n",
    "\n",
    "import warnings\n",
    "warnings.filterwarnings(action='ignore')"
   ]
  },
  {
   "cell_type": "code",
   "execution_count": 56,
   "id": "9d166723",
   "metadata": {},
   "outputs": [],
   "source": [
    "from tqdm import tqdm\n",
    "from torch import nn, optim"
   ]
  },
  {
   "cell_type": "code",
   "execution_count": 22,
   "id": "a4d0f771",
   "metadata": {},
   "outputs": [
    {
     "data": {
      "text/html": [
       "<div>\n",
       "<style scoped>\n",
       "    .dataframe tbody tr th:only-of-type {\n",
       "        vertical-align: middle;\n",
       "    }\n",
       "\n",
       "    .dataframe tbody tr th {\n",
       "        vertical-align: top;\n",
       "    }\n",
       "\n",
       "    .dataframe thead th {\n",
       "        text-align: right;\n",
       "    }\n",
       "</style>\n",
       "<table border=\"1\" class=\"dataframe\">\n",
       "  <thead>\n",
       "    <tr style=\"text-align: right;\">\n",
       "      <th></th>\n",
       "      <th>연번</th>\n",
       "      <th>환자</th>\n",
       "      <th>확진일</th>\n",
       "      <th>거주지</th>\n",
       "      <th>여행력</th>\n",
       "      <th>접촉력</th>\n",
       "      <th>퇴원현황</th>\n",
       "      <th>년</th>\n",
       "      <th>월</th>\n",
       "      <th>일</th>\n",
       "      <th>주</th>\n",
       "      <th>거리두기</th>\n",
       "    </tr>\n",
       "  </thead>\n",
       "  <tbody>\n",
       "    <tr>\n",
       "      <th>76</th>\n",
       "      <td>324</td>\n",
       "      <td>8816</td>\n",
       "      <td>2020-03-21</td>\n",
       "      <td>서초구</td>\n",
       "      <td>-</td>\n",
       "      <td>감염경로 조사중</td>\n",
       "      <td>퇴원</td>\n",
       "      <td>2020</td>\n",
       "      <td>3</td>\n",
       "      <td>21</td>\n",
       "      <td>12</td>\n",
       "      <td>0.0</td>\n",
       "    </tr>\n",
       "    <tr>\n",
       "      <th>77</th>\n",
       "      <td>323</td>\n",
       "      <td>8826</td>\n",
       "      <td>2020-03-21</td>\n",
       "      <td>서대문구</td>\n",
       "      <td>-</td>\n",
       "      <td>감염경로 조사중</td>\n",
       "      <td>퇴원</td>\n",
       "      <td>2020</td>\n",
       "      <td>3</td>\n",
       "      <td>21</td>\n",
       "      <td>12</td>\n",
       "      <td>0.0</td>\n",
       "    </tr>\n",
       "    <tr>\n",
       "      <th>78</th>\n",
       "      <td>322</td>\n",
       "      <td>8881</td>\n",
       "      <td>2020-03-21</td>\n",
       "      <td>서대문구</td>\n",
       "      <td>유럽</td>\n",
       "      <td>해외유입</td>\n",
       "      <td>퇴원</td>\n",
       "      <td>2020</td>\n",
       "      <td>3</td>\n",
       "      <td>21</td>\n",
       "      <td>12</td>\n",
       "      <td>0.0</td>\n",
       "    </tr>\n",
       "    <tr>\n",
       "      <th>79</th>\n",
       "      <td>321</td>\n",
       "      <td>8836</td>\n",
       "      <td>2020-03-21</td>\n",
       "      <td>영등포구</td>\n",
       "      <td>유럽</td>\n",
       "      <td>해외유입</td>\n",
       "      <td>퇴원</td>\n",
       "      <td>2020</td>\n",
       "      <td>3</td>\n",
       "      <td>21</td>\n",
       "      <td>12</td>\n",
       "      <td>0.0</td>\n",
       "    </tr>\n",
       "    <tr>\n",
       "      <th>80</th>\n",
       "      <td>320</td>\n",
       "      <td>8848</td>\n",
       "      <td>2020-03-21</td>\n",
       "      <td>성동구</td>\n",
       "      <td>-</td>\n",
       "      <td>감염경로 조사중</td>\n",
       "      <td>퇴원</td>\n",
       "      <td>2020</td>\n",
       "      <td>3</td>\n",
       "      <td>21</td>\n",
       "      <td>12</td>\n",
       "      <td>0.0</td>\n",
       "    </tr>\n",
       "  </tbody>\n",
       "</table>\n",
       "</div>"
      ],
      "text/plain": [
       "     연번    환자         확진일   거주지 여행력       접촉력 퇴원현황     년  월   일   주  거리두기\n",
       "76  324  8816  2020-03-21   서초구   -  감염경로 조사중   퇴원  2020  3  21  12   0.0\n",
       "77  323  8826  2020-03-21  서대문구   -  감염경로 조사중   퇴원  2020  3  21  12   0.0\n",
       "78  322  8881  2020-03-21  서대문구  유럽      해외유입   퇴원  2020  3  21  12   0.0\n",
       "79  321  8836  2020-03-21  영등포구  유럽      해외유입   퇴원  2020  3  21  12   0.0\n",
       "80  320  8848  2020-03-21   성동구   -  감염경로 조사중   퇴원  2020  3  21  12   0.0"
      ]
     },
     "execution_count": 22,
     "metadata": {},
     "output_type": "execute_result"
    }
   ],
   "source": [
    "data = pd.read_csv('Data/covid_data.csv', index_col = 0)\n",
    "data.head()"
   ]
  },
  {
   "cell_type": "code",
   "execution_count": 23,
   "id": "85fb8fb3",
   "metadata": {},
   "outputs": [
    {
     "name": "stdout",
     "output_type": "stream",
     "text": [
      "<class 'pandas.core.frame.DataFrame'>\n",
      "Int64Index: 203100 entries, 76 to 72\n",
      "Data columns (total 12 columns):\n",
      " #   Column  Non-Null Count   Dtype  \n",
      "---  ------  --------------   -----  \n",
      " 0   연번      203100 non-null  int64  \n",
      " 1   환자      203100 non-null  int64  \n",
      " 2   확진일     203100 non-null  object \n",
      " 3   거주지     203100 non-null  object \n",
      " 4   여행력     203100 non-null  object \n",
      " 5   접촉력     203100 non-null  object \n",
      " 6   퇴원현황    148547 non-null  object \n",
      " 7   년       203100 non-null  int64  \n",
      " 8   월       203100 non-null  int64  \n",
      " 9   일       203100 non-null  int64  \n",
      " 10  주       203100 non-null  int64  \n",
      " 11  거리두기    203100 non-null  float64\n",
      "dtypes: float64(1), int64(6), object(5)\n",
      "memory usage: 20.1+ MB\n"
     ]
    }
   ],
   "source": [
    "data.info()"
   ]
  },
  {
   "cell_type": "code",
   "execution_count": 33,
   "id": "0fddbee8",
   "metadata": {},
   "outputs": [
    {
     "name": "stdout",
     "output_type": "stream",
     "text": [
      "데이터의 203100 행 과 12 열 \n"
     ]
    }
   ],
   "source": [
    "print('데이터의 {} 행 과 {} 열 '.format(data.shape[0],data.shape[1]))"
   ]
  },
  {
   "cell_type": "code",
   "execution_count": 24,
   "id": "60b82607",
   "metadata": {},
   "outputs": [
    {
     "name": "stdout",
     "output_type": "stream",
     "text": [
      "결측치가 있는 컬럼은: 퇴원현황 입니다\n",
      "해당 컬럼에 총 54553 개의 결측치가 존재합니다.\n"
     ]
    }
   ],
   "source": [
    "def check_missing_col(dataframe):\n",
    "    missing_col = []\n",
    "    for col in dataframe.columns:\n",
    "        missing_values = sum(dataframe[col].isna())\n",
    "        is_missing = True if missing_values >= 1 else False\n",
    "        if is_missing:\n",
    "            print(f'결측치가 있는 컬럼은: {col} 입니다')\n",
    "            print(f'해당 컬럼에 총 {missing_values} 개의 결측치가 존재합니다.')\n",
    "            missing_col.append([col, dataframe[col].dtype])\n",
    "    if missing_col == []:\n",
    "        print('결측치가 존재하지 않습니다')\n",
    "    return missing_col\n",
    "\n",
    "missing_col = check_missing_col(data)"
   ]
  },
  {
   "cell_type": "markdown",
   "id": "ac1b0c66",
   "metadata": {},
   "source": [
    "### 데이터셋 준비"
   ]
  },
  {
   "cell_type": "code",
   "execution_count": 34,
   "id": "ce5f901e",
   "metadata": {},
   "outputs": [
    {
     "data": {
      "text/plain": [
       "2020-04-15       1\n",
       "2020-05-17       1\n",
       "2020-04-19       1\n",
       "2020-04-24       1\n",
       "2020-05-01       1\n",
       "              ... \n",
       "2021-12-10    2835\n",
       "2021-12-16    2846\n",
       "2021-12-07    2900\n",
       "2021-12-15    3056\n",
       "2021-12-14    3166\n",
       "Name: 확진일, Length: 638, dtype: int64"
      ]
     },
     "execution_count": 34,
     "metadata": {},
     "output_type": "execute_result"
    }
   ],
   "source": [
    "time_series_data = pd.DataFrame(data['확진일'].value_counts().sort_values(), )\n",
    "time_series_data.rename(columns={'확진일' :'확진자수'})\n",
    "time_series_data.head()"
   ]
  },
  {
   "cell_type": "code",
   "execution_count": 37,
   "id": "09470869",
   "metadata": {},
   "outputs": [],
   "source": [
    "# 시계열 데이터 변환 \n",
    "\n",
    "def sequences(d, seq_length) :\n",
    "    xs = []\n",
    "    ys = []\n",
    "    \n",
    "    for i in range(len(d) - seq_length) :\n",
    "        x = d.iloc[i : (i+seq_length)]\n",
    "        y = d.iloc[i+ seq_length]\n",
    "        xs.append(x)\n",
    "        ys.append(y)\n",
    "    return np.array(xs), np.array(ys)\n",
    "\n",
    "seq_length = 5\n",
    "\n",
    "X, y = sequences(time_series_data, seq_length)"
   ]
  },
  {
   "cell_type": "code",
   "execution_count": 38,
   "id": "ac254550",
   "metadata": {},
   "outputs": [
    {
     "data": {
      "text/plain": [
       "((633, 5), (633,))"
      ]
     },
     "execution_count": 38,
     "metadata": {},
     "output_type": "execute_result"
    }
   ],
   "source": [
    "X.shape, y.shape"
   ]
  },
  {
   "cell_type": "code",
   "execution_count": 39,
   "id": "68221ba8",
   "metadata": {},
   "outputs": [
    {
     "name": "stdout",
     "output_type": "stream",
     "text": [
      "443\n"
     ]
    }
   ],
   "source": [
    "# train 데이터를 70%로 가져가고 validation 과 test를 각각 15% 씩 가져감\n",
    "train_size = int(633 * 0.7)\n",
    "print(train_size)"
   ]
  },
  {
   "cell_type": "code",
   "execution_count": 41,
   "id": "0801344b",
   "metadata": {},
   "outputs": [],
   "source": [
    "X_train, y_train = X[:train_size], y[:train_size]\n",
    "X_val, y_val = X[train_size:train_size+100], y[train_size:train_size+100]\n",
    "X_test, y_test = X[train_size+100:], y[train_size+100:]"
   ]
  },
  {
   "cell_type": "code",
   "execution_count": 42,
   "id": "7059839a",
   "metadata": {},
   "outputs": [
    {
     "name": "stdout",
     "output_type": "stream",
     "text": [
      "(443, 5) (100, 5) (90, 5)\n",
      "(443,) (100,) (90,)\n"
     ]
    }
   ],
   "source": [
    "print(X_train.shape, X_val.shape, X_test.shape)\n",
    "print(y_train.shape, y_val.shape, y_test.shape)"
   ]
  },
  {
   "cell_type": "markdown",
   "id": "47c54a62",
   "metadata": {},
   "source": [
    "### 스케일링"
   ]
  },
  {
   "cell_type": "code",
   "execution_count": 45,
   "id": "bd5d8e0b",
   "metadata": {},
   "outputs": [
    {
     "name": "stdout",
     "output_type": "stream",
     "text": [
      "1 298\n"
     ]
    }
   ],
   "source": [
    "MIN = X_train.min()\n",
    "MAX = X_train.max()\n",
    "print(MIN, MAX)"
   ]
  },
  {
   "cell_type": "code",
   "execution_count": 46,
   "id": "caee7d05",
   "metadata": {},
   "outputs": [],
   "source": [
    "def MinMaxScale(array, min, max):\n",
    "\n",
    "    return (array - min) / (max - min)"
   ]
  },
  {
   "cell_type": "code",
   "execution_count": 47,
   "id": "41ac8ed6",
   "metadata": {},
   "outputs": [],
   "source": [
    "X_train = MinMaxScale(X_train, MIN, MAX)\n",
    "y_train = MinMaxScale(y_train, MIN, MAX)\n",
    "X_val = MinMaxScale(X_val, MIN, MAX)\n",
    "y_val = MinMaxScale(y_val, MIN, MAX)\n",
    "X_test = MinMaxScale(X_test, MIN, MAX)\n",
    "y_test = MinMaxScale(y_test, MIN, MAX)"
   ]
  },
  {
   "cell_type": "code",
   "execution_count": 48,
   "id": "598aef33",
   "metadata": {},
   "outputs": [],
   "source": [
    "# Pytorch 형태로 변환\n",
    "\n",
    "def make_Tensor(array):\n",
    "    return torch.from_numpy(array).float()"
   ]
  },
  {
   "cell_type": "code",
   "execution_count": 49,
   "id": "ccd6e9eb",
   "metadata": {},
   "outputs": [],
   "source": [
    "X_train = make_Tensor(X_train)\n",
    "y_train = make_Tensor(y_train)\n",
    "X_val = make_Tensor(X_val)\n",
    "y_val = make_Tensor(y_val)\n",
    "X_test = make_Tensor(X_test)\n",
    "y_test = make_Tensor(y_test)"
   ]
  },
  {
   "cell_type": "code",
   "execution_count": 57,
   "id": "2f33173b",
   "metadata": {},
   "outputs": [],
   "source": [
    "class CovidPredictor(nn.Module):\n",
    "    def __init__(self, n_features, n_hidden, seq_len, n_layers):\n",
    "        super(CovidPredictor, self).__init__()\n",
    "        self.n_hidden = n_hidden\n",
    "        self.seq_len = seq_len\n",
    "        self.n_layers = n_layers\n",
    "        self.lstm = nn.LSTM(\n",
    "            input_size=n_features,\n",
    "            hidden_size=n_hidden,\n",
    "            num_layers=n_layers\n",
    "        )\n",
    "        self.linear = nn.Linear(in_features=n_hidden, out_features=1)\n",
    "    def reset_hidden_state(self):\n",
    "        self.hidden = (\n",
    "            torch.zeros(self.n_layers, self.seq_len, self.n_hidden),\n",
    "            torch.zeros(self.n_layers, self.seq_len, self.n_hidden)\n",
    "        )\n",
    "    def forward(self, sequences):\n",
    "        lstm_out, self.hidden = self.lstm(\n",
    "            sequences.view(len(sequences), self.seq_len, -1),\n",
    "            self.hidden\n",
    "        )\n",
    "        last_time_step = lstm_out.view(self.seq_len, len(sequences), self.n_hidden)[-1]\n",
    "        y_pred = self.linear(last_time_step)\n",
    "        return y_pred"
   ]
  },
  {
   "cell_type": "code",
   "execution_count": 58,
   "id": "de645804",
   "metadata": {},
   "outputs": [],
   "source": [
    "def train_model(model, train_data, train_labels, val_data=None, val_labels=None, num_epochs=100, verbose = 10, patience = 10):\n",
    "    loss_fn = torch.nn.L1Loss() #\n",
    "    optimiser = torch.optim.Adam(model.parameters(), lr=0.001)\n",
    "    train_hist = []\n",
    "    val_hist = []\n",
    "    for t in range(num_epochs):\n",
    "\n",
    "        epoch_loss = 0\n",
    "\n",
    "        for idx, seq in enumerate(train_data): \n",
    "\n",
    "            model.reset_hidden_state() # seq 별 hidden state reset\n",
    "\n",
    "            # train loss\n",
    "            seq = torch.unsqueeze(seq, 0)\n",
    "            y_pred = model(seq)\n",
    "            loss = loss_fn(y_pred[0].float(), train_labels[idx]) # 1개의 step에 대한 loss\n",
    "\n",
    "            # update weights\n",
    "            optimiser.zero_grad()\n",
    "            loss.backward()\n",
    "            optimiser.step()\n",
    "\n",
    "            epoch_loss += loss.item()\n",
    "        \n",
    "        train_hist.append(epoch_loss / len(train_data))\n",
    "\n",
    "        if val_data is not None:\n",
    "\n",
    "            with torch.no_grad():\n",
    "\n",
    "                val_loss = 0\n",
    "\n",
    "                for val_idx, val_seq in enumerate(val_data):\n",
    "\n",
    "                    model.reset_hidden_state() # seq 별로 hidden state 초기화 \n",
    "\n",
    "                    val_seq = torch.unsqueeze(val_seq, 0)\n",
    "                    y_val_pred = model(val_seq)\n",
    "                    val_step_loss = loss_fn(y_val_pred[0].float(), val_labels[val_idx])\n",
    "\n",
    "                    val_loss += val_step_loss\n",
    "                \n",
    "            val_hist.append(val_loss / len(val_data)) # val hist에 추가\n",
    "            \n",
    "            ## verbose 번째 마다 loss 출력 \n",
    "            if t % verbose == 0:\n",
    "                print(f'Epoch {t} train loss: {epoch_loss / len(train_data)} val loss: {val_loss / len(val_data)}')\n",
    "\n",
    "            ## patience 번째 마다 early stopping 여부 확인\n",
    "            if (t % patience == 0) & (t != 0):\n",
    "                \n",
    "                ## loss가 커졌다면 early stop\n",
    "                if val_hist[t - patience] < val_hist[t] :\n",
    "\n",
    "                    print('\\n Early Stopping')\n",
    "\n",
    "                    break\n",
    "\n",
    "        elif t % verbose == 0:\n",
    "            print(f'Epoch {t} train loss: {epoch_loss / len(train_data)}')\n",
    "\n",
    "            \n",
    "    return model, train_hist, val_hist"
   ]
  },
  {
   "cell_type": "code",
   "execution_count": 59,
   "id": "5c71874e",
   "metadata": {},
   "outputs": [
    {
     "name": "stdout",
     "output_type": "stream",
     "text": [
      "Epoch 0 train loss: 0.26515335826787667 val loss: 0.5020005106925964\n",
      "Epoch 10 train loss: 0.005942586662235163 val loss: 0.2717767357826233\n",
      "Epoch 20 train loss: 0.0037814567073691913 val loss: 0.2421213537454605\n",
      "Epoch 30 train loss: 0.003307390787783783 val loss: 0.20837992429733276\n",
      "Epoch 40 train loss: 0.0034402193139994658 val loss: 0.19048266112804413\n",
      "Epoch 50 train loss: 0.0037143791701989438 val loss: 0.19361981749534607\n",
      "Epoch 60 train loss: 0.003967943218690143 val loss: 0.18989738821983337\n",
      "Epoch 70 train loss: 0.003883667086286819 val loss: 0.17876558005809784\n",
      "Epoch 80 train loss: 0.0034790403403039036 val loss: 0.1810280680656433\n",
      "Epoch 90 train loss: 0.003930302123427727 val loss: 0.18066556751728058\n"
     ]
    }
   ],
   "source": [
    "model = CovidPredictor(\n",
    "    n_features=1,\n",
    "    n_hidden=4,\n",
    "    seq_len=seq_length,\n",
    "    n_layers=1\n",
    ")\n",
    "model, train_hist, val_hist = train_model(\n",
    "    model,\n",
    "    X_train,\n",
    "    y_train,\n",
    "    X_val,\n",
    "    y_val,\n",
    "    num_epochs=100,\n",
    "    verbose=10,\n",
    "    patience=50\n",
    ")"
   ]
  },
  {
   "cell_type": "code",
   "execution_count": 61,
   "id": "0cfafd25",
   "metadata": {},
   "outputs": [
    {
     "data": {
      "image/png": "[encoded data removed]",
      "text/plain": [
       "<Figure size 432x288 with 1 Axes>"
      ]
     },
     "metadata": {
      "needs_background": "light"
     },
     "output_type": "display_data"
    }
   ],
   "source": [
    "plt.plot(train_hist, label=\"Training loss\")\n",
    "plt.plot(val_hist, label=\"Val loss\")\n",
    "plt.legend()\n",
    "plt.show()"
   ]
  }
 ],
 "metadata": {
  "kernelspec": {
   "display_name": "Python 3",
   "language": "python",
   "name": "python3"
  },
  "language_info": {
   "codemirror_mode": {
    "name": "ipython",
    "version": 3
   },
   "file_extension": ".py",
   "mimetype": "text/x-python",
   "name": "python",
   "nbconvert_exporter": "python",
   "pygments_lexer": "ipython3",
   "version": "3.8.13"
  }
 },
 "nbformat": 4,
 "nbformat_minor": 5
}
